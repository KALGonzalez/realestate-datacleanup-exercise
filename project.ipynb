{
 "cells": [
  {
   "attachments": {},
   "cell_type": "markdown",
   "id": "innocent-university",
   "metadata": {},
   "source": [
    "# Real Estate Clean up\n",
    "\n",
    "This is a real dataset, and it was downloaded using web scraping techniques. The data contains registers from **Fotocasa** which is one of the most popular real estate websites in Spain. Please, do not do this (web scraping) unless it is for academic purposes.\n",
    "\n",
    "The dataset was downloaded a few years ago by Henry Navarro, and in no case were economic returns obtained from it.\n",
    "\n",
    "It contains thousands of data from real houses published on the web www.fotocasa.com. Your goal is to extract as much information as possible with the knowledge you have so far about data science, for example what is the most expensive house in the entire dataset?\n",
    "\n",
    "Let's start with precisely that question... Good luck!"
   ]
  },
  {
   "attachments": {},
   "cell_type": "markdown",
   "id": "multiple-glass",
   "metadata": {},
   "source": [
    "#### Exercise 00. Read the dataset assets/real_estate.csv and try to visualize the table (★☆☆)"
   ]
  },
  {
   "cell_type": "code",
   "execution_count": 8,
   "id": "frank-heath",
   "metadata": {},
   "outputs": [
    {
     "name": "stdout",
     "output_type": "stream",
     "text": [
      "El precio max de vivienda es 8500000\n"
     ]
    }
   ],
   "source": [
    "import pandas as pd\n",
    "\n",
    "# This CSV file contains semicolons instead of comas as separator\n",
    "ds = pd.read_csv('assets/real_estate.csv', sep=';')\n",
    "ds\n",
    "\n",
    "# Encontrar la casa con el precio más alto\n",
    "max_price = ds['price'].max()\n",
    "most_expensive_house = ds[ds['price'] == max_price][\"price\"]\n",
    "\n",
    "# Mostrar los detalles de la casa más cara\n",
    "print(f\"El precio max de vivienda es {max_price}\")\n"
   ]
  },
  {
   "attachments": {},
   "cell_type": "markdown",
   "id": "latin-guest",
   "metadata": {},
   "source": [
    "#### Exercise 01. Which is the most expensive house in the dataset? (★☆☆)\n",
    "\n",
    "Print the address and the price of the selected house. For example:\n",
    "\n",
    "`The house with address General Street Nº5 is the most expensive and its price is 5000000 USD`"
   ]
  },
  {
   "cell_type": "code",
   "execution_count": 9,
   "id": "developing-optimum",
   "metadata": {},
   "outputs": [
    {
     "name": "stdout",
     "output_type": "stream",
     "text": [
      "La casa con dirección El Escorial es la más cara y su precio es de 8500000 euros.\n"
     ]
    }
   ],
   "source": [
    "# TODO\n",
    "\n",
    "import pandas as pd\n",
    "\n",
    "max_price = ds['price'].max()\n",
    "most_expensive_house = ds[ds['price'] == max_price]\n",
    "\n",
    "# Obtener la dirección y el precio de la casa más cara\n",
    "address = most_expensive_house['address'].values[0]\n",
    "price = most_expensive_house['price'].values[0]\n",
    "\n",
    "# Imprimir la dirección y el precio\n",
    "print(f\"La casa con dirección {address} es la más cara y su precio es de {price} euros.\")"
   ]
  },
  {
   "attachments": {},
   "cell_type": "markdown",
   "id": "lesser-cosmetic",
   "metadata": {},
   "source": [
    "#### Exercise 02. Which is the cheapest house in the dataset? (★☆☆)\n",
    "\n",
    "Print the address and the price of the selected house. For example:\n",
    "\n",
    "`The house with address Concrete Street Nº1 is the cheapest and its price is 12000 USD`"
   ]
  },
  {
   "cell_type": "code",
   "execution_count": 10,
   "id": "lovely-oasis",
   "metadata": {},
   "outputs": [
    {
     "name": "stdout",
     "output_type": "stream",
     "text": [
      "La casa con dirección Parla es la más barata y su precio es de 0 euros.\n"
     ]
    }
   ],
   "source": [
    "# TODO\n",
    "\n",
    "import pandas as pd\n",
    "\n",
    "# Encontrar la casa con el precio más bajo\n",
    "min_price = ds['price'].min()\n",
    "cheapest_house = ds[ds['price'] == min_price]\n",
    "\n",
    "# Obtener la dirección y el precio de la casa más barata\n",
    "address = cheapest_house['address'].values[0]\n",
    "price = cheapest_house['price'].values[0]\n",
    "\n",
    "# Imprimir la dirección y el precio\n",
    "print(f\"La casa con dirección {address} es la más barata y su precio es de {price} euros.\")\n"
   ]
  },
  {
   "attachments": {},
   "cell_type": "markdown",
   "id": "compliant-fellowship",
   "metadata": {},
   "source": [
    "#### Exercise 03. Which is the biggest and the smallest house in the dataset? (★☆☆)\n",
    "\n",
    "Print both the address and the surface of the selected houses. For example:\n",
    "\n",
    "`The biggest house is located on Yukka Street Nº10 and its surface is 5000 meters`\n",
    "\n",
    "`The smallest house is located on County Road 1 N and its surface is 200 meters`"
   ]
  },
  {
   "cell_type": "code",
   "execution_count": 11,
   "id": "every-tiffany",
   "metadata": {},
   "outputs": [
    {
     "name": "stdout",
     "output_type": "stream",
     "text": [
      "La casa más grande está ubicada en la dirección Sevilla la Nueva y su superficie es de 249000.0 metros cuadrados.\n",
      "La casa más pequeña está ubicada en la dirección Calle Amparo,  Madrid Capital y su superficie es de 15.0 metros cuadrados.\n"
     ]
    }
   ],
   "source": [
    "# TODO\n",
    "\n",
    "import pandas as pd\n",
    "\n",
    "# Encontrar la casa con la superficie más grande\n",
    "max_surface = ds['surface'].max()\n",
    "largest_house = ds[ds['surface'] == max_surface]\n",
    "\n",
    "# Encontrar la casa con la superficie más pequeña\n",
    "min_surface = ds['surface'].min()\n",
    "smallest_house = ds[ds['surface'] == min_surface]\n",
    "\n",
    "# Obtener la dirección y la superficie de la casa más grande\n",
    "address_largest = largest_house['address'].values[0]\n",
    "surface_largest = largest_house['surface'].values[0]\n",
    "\n",
    "# Obtener la dirección y la superficie de la casa más pequeña\n",
    "address_smallest = smallest_house['address'].values[0]\n",
    "surface_smallest = smallest_house['surface'].values[0]\n",
    "\n",
    "# Imprimir la dirección y la superficie de las casas\n",
    "print(f\"La casa más grande está ubicada en la dirección {address_largest} y su superficie es de {surface_largest} metros cuadrados.\")\n",
    "print(f\"La casa más pequeña está ubicada en la dirección {address_smallest} y su superficie es de {surface_smallest} metros cuadrados.\")"
   ]
  },
  {
   "attachments": {},
   "cell_type": "markdown",
   "id": "danish-spirit",
   "metadata": {},
   "source": [
    "#### Exercise 04. How many populations (level5 column) the dataset contains? (★☆☆)\n",
    "\n",
    "Print the names of the populations with a comma as a separator. For example:\n",
    "\n",
    "`> print(populations)`\n",
    "\n",
    "`population1, population2, population3, ...`"
   ]
  },
  {
   "cell_type": "code",
   "execution_count": 13,
   "id": "exciting-accreditation",
   "metadata": {},
   "outputs": [
    {
     "name": "stdout",
     "output_type": "stream",
     "text": [
      "Arganda del Rey, Fuenlabrada, Boadilla del Monte, Las Rozas de Madrid,  Madrid Capital, Villaviciosa de Odón, Pinto, Valdemoro, Navalcarnero, Pozuelo de Alarcón, Torrejón de Ardoz, Navalagamella, San Sebastián de los Reyes, Rivas-vaciamadrid, Alpedrete, Móstoles, San Fernando de Henares, Coslada, Becerril de la Sierra, Alcalá de Henares, Chinchón, Parla, Alcorcón, El Escorial, Leganés, Pedrezuela, Majadahonda, Villanueva de la Cañada, Villanueva del Pardillo, Torrelodones, Moralzarzal, Mejorada del Campo, Aranjuez, Corpa, Getafe, Velilla de San Antonio, Sevilla la Nueva, San Martín de la Vega, Villalbilla, Collado Villalba, Alcobendas, El Molar (Madrid), Moraleja de Enmedio, Algete, Campo Real, Torrejón de la Calzada, Colmenar Viejo, Valdemorillo, Fuente El Saz de Jarama, Tres Cantos, Arroyomolinos (Madrid), Griñón, Paracuellos de Jarama, Guadarrama, Titulcia, Galapagar, Collado Mediano, Los Molinos, San Lorenzo de El Escorial, Loeches, San Martín de Valdeiglesias, Navas del Rey, Bustarviejo, Manzanares El Real, Carabaña, Casarrubuelos, Cercedilla, Fresnedillas de la Oliva, Valdemaqueda, Robledo de Chavela, Miraflores de la Sierra, Humanes de Madrid, Valdetorres de Jarama, San Agustín del Guadalix, Ciempozuelos, Camarma de Esteruelas, Torres de la Alameda, Talamanca de Jarama, El Atazar, Hoyo de Manzanares, El Boalo - Cerceda – Mataelpino, El Álamo, Valdilecha, Valdeolmos-Alalpardo, Guadalix de la Sierra, Belmonte de Tajo, El Vellón, Brunete, Redueña, Morata de Tajuña, Tielmes, Gargantilla del Lozoya, Meco, Venturada, Quijorna, Cenicientos, Torrejón de Velasco, Navacerrada, Santa María de la Alameda, Orusco de Tajuña, Daganzo de Arriba, Villamanta, Anchuelo, Valdaracete, Ajalvir, Los Santos de la Humosa, Villamanrique de Tajo, Colmenar de Oreja, Villa del Prado, Fuentidueña de Tajo, Colmenar del Arroyo, Valdelaguna, Cubas de la Sagra, Valdeavero, Aldea del Fresno, Ribatejada, Torrelaguna, Batres, Pezuela de las Torres, Colmenarejo, Serranillos del Valle, Cobeña, Soto del Real, El Berrueco, Villanueva de Perales, Fresno de Torote - Serracines, Pozuelo del Rey, Pelayos de la Presa, La Cabrera, Nuevo Baztán, Perales de Tajuña, Villaconejos, Villarejo de Salvanés, Cadalso de los Vidrios, Santorcaz, Madarcos, Garganta de los Montes, Puentes Viejas, Torremocha de Jarama, Valdemanco, Braojos, Lozoyuela-navas-sieteiglesias, Piñuécar-gandullas, Valdepiélagos, Valverde de Alcalá, Villar del Olmo, Villamantilla, Horcajo de la Sierra, Gascones, Zarzalejo, Villavieja del Lozoya, Brea de Tajo, Estremera, Chapinería, Navarredonda, Patones, Ambite, Navalafuente, Lozoya, Canencia, Cabanillas de la Sierra, Buitrago del Lozoya, Fresno de Torote, Robregordo, Pinilla del Valle, Rascafría, La Hiruela, Montejo de la Sierra\n"
     ]
    }
   ],
   "source": [
    "# TODO\n",
    "\n",
    "# Obtener los nombres únicos de las poblaciones en la columna level5\n",
    "populations = ds['level5'].dropna().unique()\n",
    "\n",
    "# Convertir la lista de poblaciones a una cadena separada por comas\n",
    "populations_str = ', '.join(populations)\n",
    "\n",
    "# Imprimir los nombres de las poblaciones\n",
    "print(populations_str)"
   ]
  },
  {
   "attachments": {},
   "cell_type": "markdown",
   "id": "crazy-blame",
   "metadata": {},
   "source": [
    "#### Exercise 05. Does the dataset contain NAs? (★☆☆)\n",
    "\n",
    "Print a boolean value (`True` or `False`) followed by the rows/cols that contains NAs."
   ]
  },
  {
   "cell_type": "code",
   "execution_count": 15,
   "id": "transparent-poetry",
   "metadata": {},
   "outputs": [
    {
     "name": "stdout",
     "output_type": "stream",
     "text": [
      "Unnamed: 0          False\n",
      "id_realEstates      False\n",
      "isNew               False\n",
      "realEstate_name      True\n",
      "phone_realEstate     True\n",
      "url_inmueble        False\n",
      "rooms                True\n",
      "bathrooms            True\n",
      "surface              True\n",
      "price               False\n",
      "date                False\n",
      "description          True\n",
      "address             False\n",
      "country             False\n",
      "level1              False\n",
      "level2              False\n",
      "level3              False\n",
      "level4               True\n",
      "level5              False\n",
      "level6               True\n",
      "level7               True\n",
      "level8               True\n",
      "upperLevel          False\n",
      "countryId           False\n",
      "level1Id            False\n",
      "level2Id            False\n",
      "level3Id            False\n",
      "level4Id            False\n",
      "level5Id            False\n",
      "level6Id            False\n",
      "level7Id            False\n",
      "level8Id            False\n",
      "accuracy            False\n",
      "latitude            False\n",
      "longitude           False\n",
      "zipCode              True\n",
      "customZone           True\n",
      "dtype: bool\n"
     ]
    }
   ],
   "source": [
    "# TODO\n",
    "\n",
    "# Verificar si el conjunto de datos contiene valores NA\n",
    "contains_na = ds.isna().any()\n",
    "\n",
    "# Imprimir si el conjunto de datos contiene valores NA\n",
    "print(contains_na)\n",
    "\n",
    "# Si hay valores NA, imprimir las filas y columnas que los contienen\n",
    "\n",
    "\n",
    "    "
   ]
  },
  {
   "cell_type": "code",
   "execution_count": 16,
   "id": "9cd9ae6a",
   "metadata": {},
   "outputs": [
    {
     "data": {
      "text/plain": [
       "Unnamed: 0              0\n",
       "id_realEstates          0\n",
       "isNew                   0\n",
       "realEstate_name        10\n",
       "phone_realEstate      794\n",
       "url_inmueble            0\n",
       "rooms                 353\n",
       "bathrooms             345\n",
       "surface              1250\n",
       "price                   0\n",
       "date                    0\n",
       "description           142\n",
       "address                 0\n",
       "country                 0\n",
       "level1                  0\n",
       "level2                  0\n",
       "level3                  0\n",
       "level4               6643\n",
       "level5                  0\n",
       "level6              14627\n",
       "level7               2277\n",
       "level8               8579\n",
       "upperLevel              0\n",
       "countryId               0\n",
       "level1Id                0\n",
       "level2Id                0\n",
       "level3Id                0\n",
       "level4Id                0\n",
       "level5Id                0\n",
       "level6Id                0\n",
       "level7Id                0\n",
       "level8Id                0\n",
       "accuracy                0\n",
       "latitude                0\n",
       "longitude               0\n",
       "zipCode             15335\n",
       "customZone          15335\n",
       "dtype: int64"
      ]
     },
     "execution_count": 16,
     "metadata": {},
     "output_type": "execute_result"
    }
   ],
   "source": [
    "ds.isna().sum()"
   ]
  },
  {
   "attachments": {},
   "cell_type": "markdown",
   "id": "italic-hydrogen",
   "metadata": {},
   "source": [
    "#### Exercise 06. Delete the NAs of the dataset, if applicable (★★☆)\n",
    "\n",
    "Print a comparison between the dimensions of the original DataFrame versus the DataFrame after the deletions."
   ]
  },
  {
   "cell_type": "code",
   "execution_count": 21,
   "id": "administrative-roads",
   "metadata": {},
   "outputs": [
    {
     "ename": "KeyError",
     "evalue": "\"['zipCode', 'customZone', 'level6', 'level4', 'level8'] not found in axis\"",
     "output_type": "error",
     "traceback": [
      "\u001b[0;31m---------------------------------------------------------------------------\u001b[0m",
      "\u001b[0;31mKeyError\u001b[0m                                  Traceback (most recent call last)",
      "Cell \u001b[0;32mIn[21], line 3\u001b[0m\n\u001b[1;32m      1\u001b[0m \u001b[38;5;66;03m# TODO\u001b[39;00m\n\u001b[0;32m----> 3\u001b[0m \u001b[43mds\u001b[49m\u001b[38;5;241;43m.\u001b[39;49m\u001b[43mdrop\u001b[49m\u001b[43m(\u001b[49m\u001b[43m[\u001b[49m\u001b[38;5;124;43m\"\u001b[39;49m\u001b[38;5;124;43mzipCode\u001b[39;49m\u001b[38;5;124;43m\"\u001b[39;49m\u001b[43m,\u001b[49m\u001b[38;5;124;43m\"\u001b[39;49m\u001b[38;5;124;43mcustomZone\u001b[39;49m\u001b[38;5;124;43m\"\u001b[39;49m\u001b[43m,\u001b[49m\u001b[38;5;124;43m\"\u001b[39;49m\u001b[38;5;124;43mlevel6\u001b[39;49m\u001b[38;5;124;43m\"\u001b[39;49m\u001b[43m,\u001b[49m\u001b[38;5;124;43m\"\u001b[39;49m\u001b[38;5;124;43mlevel4\u001b[39;49m\u001b[38;5;124;43m\"\u001b[39;49m\u001b[43m,\u001b[49m\u001b[38;5;124;43m\"\u001b[39;49m\u001b[38;5;124;43mlevel8\u001b[39;49m\u001b[38;5;124;43m\"\u001b[39;49m\u001b[43m]\u001b[49m\u001b[43m,\u001b[49m\u001b[43maxis\u001b[49m\u001b[38;5;241;43m=\u001b[39;49m\u001b[38;5;241;43m1\u001b[39;49m\u001b[43m,\u001b[49m\u001b[43minplace\u001b[49m\u001b[38;5;241;43m=\u001b[39;49m\u001b[38;5;28;43;01mTrue\u001b[39;49;00m\u001b[43m)\u001b[49m\n",
      "File \u001b[0;32m~/.local/lib/python3.11/site-packages/pandas/core/frame.py:5581\u001b[0m, in \u001b[0;36mDataFrame.drop\u001b[0;34m(self, labels, axis, index, columns, level, inplace, errors)\u001b[0m\n\u001b[1;32m   5433\u001b[0m \u001b[38;5;28;01mdef\u001b[39;00m \u001b[38;5;21mdrop\u001b[39m(\n\u001b[1;32m   5434\u001b[0m     \u001b[38;5;28mself\u001b[39m,\n\u001b[1;32m   5435\u001b[0m     labels: IndexLabel \u001b[38;5;241m|\u001b[39m \u001b[38;5;28;01mNone\u001b[39;00m \u001b[38;5;241m=\u001b[39m \u001b[38;5;28;01mNone\u001b[39;00m,\n\u001b[0;32m   (...)\u001b[0m\n\u001b[1;32m   5442\u001b[0m     errors: IgnoreRaise \u001b[38;5;241m=\u001b[39m \u001b[38;5;124m\"\u001b[39m\u001b[38;5;124mraise\u001b[39m\u001b[38;5;124m\"\u001b[39m,\n\u001b[1;32m   5443\u001b[0m ) \u001b[38;5;241m-\u001b[39m\u001b[38;5;241m>\u001b[39m DataFrame \u001b[38;5;241m|\u001b[39m \u001b[38;5;28;01mNone\u001b[39;00m:\n\u001b[1;32m   5444\u001b[0m \u001b[38;5;250m    \u001b[39m\u001b[38;5;124;03m\"\"\"\u001b[39;00m\n\u001b[1;32m   5445\u001b[0m \u001b[38;5;124;03m    Drop specified labels from rows or columns.\u001b[39;00m\n\u001b[1;32m   5446\u001b[0m \n\u001b[0;32m   (...)\u001b[0m\n\u001b[1;32m   5579\u001b[0m \u001b[38;5;124;03m            weight  1.0     0.8\u001b[39;00m\n\u001b[1;32m   5580\u001b[0m \u001b[38;5;124;03m    \"\"\"\u001b[39;00m\n\u001b[0;32m-> 5581\u001b[0m     \u001b[38;5;28;01mreturn\u001b[39;00m \u001b[38;5;28;43msuper\u001b[39;49m\u001b[43m(\u001b[49m\u001b[43m)\u001b[49m\u001b[38;5;241;43m.\u001b[39;49m\u001b[43mdrop\u001b[49m\u001b[43m(\u001b[49m\n\u001b[1;32m   5582\u001b[0m \u001b[43m        \u001b[49m\u001b[43mlabels\u001b[49m\u001b[38;5;241;43m=\u001b[39;49m\u001b[43mlabels\u001b[49m\u001b[43m,\u001b[49m\n\u001b[1;32m   5583\u001b[0m \u001b[43m        \u001b[49m\u001b[43maxis\u001b[49m\u001b[38;5;241;43m=\u001b[39;49m\u001b[43maxis\u001b[49m\u001b[43m,\u001b[49m\n\u001b[1;32m   5584\u001b[0m \u001b[43m        \u001b[49m\u001b[43mindex\u001b[49m\u001b[38;5;241;43m=\u001b[39;49m\u001b[43mindex\u001b[49m\u001b[43m,\u001b[49m\n\u001b[1;32m   5585\u001b[0m \u001b[43m        \u001b[49m\u001b[43mcolumns\u001b[49m\u001b[38;5;241;43m=\u001b[39;49m\u001b[43mcolumns\u001b[49m\u001b[43m,\u001b[49m\n\u001b[1;32m   5586\u001b[0m \u001b[43m        \u001b[49m\u001b[43mlevel\u001b[49m\u001b[38;5;241;43m=\u001b[39;49m\u001b[43mlevel\u001b[49m\u001b[43m,\u001b[49m\n\u001b[1;32m   5587\u001b[0m \u001b[43m        \u001b[49m\u001b[43minplace\u001b[49m\u001b[38;5;241;43m=\u001b[39;49m\u001b[43minplace\u001b[49m\u001b[43m,\u001b[49m\n\u001b[1;32m   5588\u001b[0m \u001b[43m        \u001b[49m\u001b[43merrors\u001b[49m\u001b[38;5;241;43m=\u001b[39;49m\u001b[43merrors\u001b[49m\u001b[43m,\u001b[49m\n\u001b[1;32m   5589\u001b[0m \u001b[43m    \u001b[49m\u001b[43m)\u001b[49m\n",
      "File \u001b[0;32m~/.local/lib/python3.11/site-packages/pandas/core/generic.py:4788\u001b[0m, in \u001b[0;36mNDFrame.drop\u001b[0;34m(self, labels, axis, index, columns, level, inplace, errors)\u001b[0m\n\u001b[1;32m   4786\u001b[0m \u001b[38;5;28;01mfor\u001b[39;00m axis, labels \u001b[38;5;129;01min\u001b[39;00m axes\u001b[38;5;241m.\u001b[39mitems():\n\u001b[1;32m   4787\u001b[0m     \u001b[38;5;28;01mif\u001b[39;00m labels \u001b[38;5;129;01mis\u001b[39;00m \u001b[38;5;129;01mnot\u001b[39;00m \u001b[38;5;28;01mNone\u001b[39;00m:\n\u001b[0;32m-> 4788\u001b[0m         obj \u001b[38;5;241m=\u001b[39m \u001b[43mobj\u001b[49m\u001b[38;5;241;43m.\u001b[39;49m\u001b[43m_drop_axis\u001b[49m\u001b[43m(\u001b[49m\u001b[43mlabels\u001b[49m\u001b[43m,\u001b[49m\u001b[43m \u001b[49m\u001b[43maxis\u001b[49m\u001b[43m,\u001b[49m\u001b[43m \u001b[49m\u001b[43mlevel\u001b[49m\u001b[38;5;241;43m=\u001b[39;49m\u001b[43mlevel\u001b[49m\u001b[43m,\u001b[49m\u001b[43m \u001b[49m\u001b[43merrors\u001b[49m\u001b[38;5;241;43m=\u001b[39;49m\u001b[43merrors\u001b[49m\u001b[43m)\u001b[49m\n\u001b[1;32m   4790\u001b[0m \u001b[38;5;28;01mif\u001b[39;00m inplace:\n\u001b[1;32m   4791\u001b[0m     \u001b[38;5;28mself\u001b[39m\u001b[38;5;241m.\u001b[39m_update_inplace(obj)\n",
      "File \u001b[0;32m~/.local/lib/python3.11/site-packages/pandas/core/generic.py:4830\u001b[0m, in \u001b[0;36mNDFrame._drop_axis\u001b[0;34m(self, labels, axis, level, errors, only_slice)\u001b[0m\n\u001b[1;32m   4828\u001b[0m         new_axis \u001b[38;5;241m=\u001b[39m axis\u001b[38;5;241m.\u001b[39mdrop(labels, level\u001b[38;5;241m=\u001b[39mlevel, errors\u001b[38;5;241m=\u001b[39merrors)\n\u001b[1;32m   4829\u001b[0m     \u001b[38;5;28;01melse\u001b[39;00m:\n\u001b[0;32m-> 4830\u001b[0m         new_axis \u001b[38;5;241m=\u001b[39m \u001b[43maxis\u001b[49m\u001b[38;5;241;43m.\u001b[39;49m\u001b[43mdrop\u001b[49m\u001b[43m(\u001b[49m\u001b[43mlabels\u001b[49m\u001b[43m,\u001b[49m\u001b[43m \u001b[49m\u001b[43merrors\u001b[49m\u001b[38;5;241;43m=\u001b[39;49m\u001b[43merrors\u001b[49m\u001b[43m)\u001b[49m\n\u001b[1;32m   4831\u001b[0m     indexer \u001b[38;5;241m=\u001b[39m axis\u001b[38;5;241m.\u001b[39mget_indexer(new_axis)\n\u001b[1;32m   4833\u001b[0m \u001b[38;5;66;03m# Case for non-unique axis\u001b[39;00m\n\u001b[1;32m   4834\u001b[0m \u001b[38;5;28;01melse\u001b[39;00m:\n",
      "File \u001b[0;32m~/.local/lib/python3.11/site-packages/pandas/core/indexes/base.py:7070\u001b[0m, in \u001b[0;36mIndex.drop\u001b[0;34m(self, labels, errors)\u001b[0m\n\u001b[1;32m   7068\u001b[0m \u001b[38;5;28;01mif\u001b[39;00m mask\u001b[38;5;241m.\u001b[39many():\n\u001b[1;32m   7069\u001b[0m     \u001b[38;5;28;01mif\u001b[39;00m errors \u001b[38;5;241m!=\u001b[39m \u001b[38;5;124m\"\u001b[39m\u001b[38;5;124mignore\u001b[39m\u001b[38;5;124m\"\u001b[39m:\n\u001b[0;32m-> 7070\u001b[0m         \u001b[38;5;28;01mraise\u001b[39;00m \u001b[38;5;167;01mKeyError\u001b[39;00m(\u001b[38;5;124mf\u001b[39m\u001b[38;5;124m\"\u001b[39m\u001b[38;5;132;01m{\u001b[39;00mlabels[mask]\u001b[38;5;241m.\u001b[39mtolist()\u001b[38;5;132;01m}\u001b[39;00m\u001b[38;5;124m not found in axis\u001b[39m\u001b[38;5;124m\"\u001b[39m)\n\u001b[1;32m   7071\u001b[0m     indexer \u001b[38;5;241m=\u001b[39m indexer[\u001b[38;5;241m~\u001b[39mmask]\n\u001b[1;32m   7072\u001b[0m \u001b[38;5;28;01mreturn\u001b[39;00m \u001b[38;5;28mself\u001b[39m\u001b[38;5;241m.\u001b[39mdelete(indexer)\n",
      "\u001b[0;31mKeyError\u001b[0m: \"['zipCode', 'customZone', 'level6', 'level4', 'level8'] not found in axis\""
     ]
    }
   ],
   "source": [
    "# TODO\n",
    "\n",
    "ds.drop([\"zipCode\",\"customZone\",\"level6\",\"level4\",\"level8\"],axis=1,inplace=True)\n",
    "\n",
    "\n"
   ]
  },
  {
   "cell_type": "code",
   "execution_count": 22,
   "id": "32f82017",
   "metadata": {},
   "outputs": [],
   "source": [
    "ds.dropna(inplace=True)"
   ]
  },
  {
   "cell_type": "code",
   "execution_count": 24,
   "id": "bdc0a919",
   "metadata": {},
   "outputs": [
    {
     "data": {
      "text/plain": [
       "Unnamed: 0          0\n",
       "id_realEstates      0\n",
       "isNew               0\n",
       "realEstate_name     0\n",
       "phone_realEstate    0\n",
       "url_inmueble        0\n",
       "rooms               0\n",
       "bathrooms           0\n",
       "surface             0\n",
       "price               0\n",
       "date                0\n",
       "description         0\n",
       "address             0\n",
       "country             0\n",
       "level1              0\n",
       "level2              0\n",
       "level3              0\n",
       "level5              0\n",
       "level7              0\n",
       "upperLevel          0\n",
       "countryId           0\n",
       "level1Id            0\n",
       "level2Id            0\n",
       "level3Id            0\n",
       "level4Id            0\n",
       "level5Id            0\n",
       "level6Id            0\n",
       "level7Id            0\n",
       "level8Id            0\n",
       "accuracy            0\n",
       "latitude            0\n",
       "longitude           0\n",
       "dtype: int64"
      ]
     },
     "execution_count": 24,
     "metadata": {},
     "output_type": "execute_result"
    }
   ],
   "source": [
    "ds.isna().sum()"
   ]
  },
  {
   "cell_type": "code",
   "execution_count": 25,
   "id": "933a8eda",
   "metadata": {},
   "outputs": [
    {
     "data": {
      "text/plain": [
       "(11025, 32)"
      ]
     },
     "execution_count": 25,
     "metadata": {},
     "output_type": "execute_result"
    }
   ],
   "source": [
    "ds.shape"
   ]
  },
  {
   "attachments": {},
   "cell_type": "markdown",
   "id": "middle-china",
   "metadata": {},
   "source": [
    "#### Exercise 07. Which is the mean of prices in the population (level5 column) of \"Arroyomolinos (Madrid)\"? (★★☆)\n",
    "\n",
    "Print the obtained value."
   ]
  },
  {
   "cell_type": "code",
   "execution_count": 30,
   "id": "nuclear-belief",
   "metadata": {},
   "outputs": [
    {
     "name": "stdout",
     "output_type": "stream",
     "text": [
      "La media de los precios en Arroyomolinos (Madrid) es: 294541.59854014596\n"
     ]
    }
   ],
   "source": [
    "# TODO\n",
    "\n",
    "# Cargar el conjunto de datos en un DataFrame de pandas\n",
    "df = pd.read_csv('assets/real_estate.csv',sep=';')\n",
    "\n",
    "# Filtrar los datos para obtener solo las filas de \"Arroyomolinos (Madrid)\"\n",
    "arroyomolinos_data = df[df['level5'] == 'Arroyomolinos (Madrid)']\n",
    "\n",
    "# Calcular la media de los precios en la columna 'Nivel5'\n",
    "media_precios_arroyomolinos = arroyomolinos_data['price'].mean()\n",
    "\n",
    "# Imprimir el valor obtenido\n",
    "print(f\"La media de los precios en Arroyomolinos (Madrid) es: {media_precios_arroyomolinos}\")\n"
   ]
  },
  {
   "attachments": {},
   "cell_type": "markdown",
   "id": "concerned-radical",
   "metadata": {},
   "source": [
    "#### Exercise 08. Plot the histogram of prices for the population (level5 column) of \"Arroyomolinos (Madrid)\" and explain what you observe (★★☆)\n",
    "\n",
    "Print the histogram of the prices and write in the Markdown cell a brief analysis about the plot."
   ]
  },
  {
   "cell_type": "code",
   "execution_count": 33,
   "id": "sudden-message",
   "metadata": {},
   "outputs": [
    {
     "data": {
      "image/png": "[encoded data removed]",
      "text/plain": [
       "<Figure size 1000x600 with 1 Axes>"
      ]
     },
     "metadata": {},
     "output_type": "display_data"
    }
   ],
   "source": [
    "# TODO: Code\n",
    "\n",
    "import matplotlib.pyplot as plt\n",
    "\n",
    "# Filtrar los datos para \"Arroyomolinos (Madrid)\"\n",
    "arroyomolinos_data = df[df['level5'] == 'Arroyomolinos (Madrid)']\n",
    "\n",
    "# Extraer los precios de los datos filtrados\n",
    "precios_arroyomolinos = arroyomolinos_data['price']\n",
    "\n",
    "# Configurar el tamaño y estilo del gráfico\n",
    "plt.figure(figsize=(10, 6))\n",
    "\n",
    "# Traza el histograma con bordes negros\n",
    "plt.hist(precios_arroyomolinos, bins=20, edgecolor='black')\n",
    "\n",
    "# Título y etiquetas de los ejes\n",
    "plt.title('Histograma de Precios en Arroyomolinos (Madrid)')\n",
    "plt.xlabel('Precio')\n",
    "plt.ylabel('Frecuencia')\n",
    "\n",
    "# Mostrar cuadrícula y ajustar diseño\n",
    "plt.grid(True)\n",
    "plt.tight_layout()\n",
    "\n",
    "# Mostrar el histograma\n",
    "plt.show()\n",
    "\n",
    "\n"
   ]
  },
  {
   "attachments": {},
   "cell_type": "markdown",
   "id": "impressed-combination",
   "metadata": {},
   "source": [
    "**TODO: Markdown**. To write here, double-click on this cell, remove this content and place the text you want to write. Then, execute the cell.   \n",
    "\n",
    "Análisis del Histograma\n",
    "\n",
    "El histograma de los precios en \"Arroyomolinos (Madrid)\" revela varios aspectos importantes sobre la distribución de los precios en esta población:\n",
    "\n",
    "Concentración de Precios: La mayoría de las propiedades se encuentran en un rango de precios específico, indicando una alta concentración de propiedades en ese rango.\n",
    "\n",
    "Distribución de Precios: La forma del histograma nos muestra si los precios están distribuidos uniformemente o si hay una tendencia hacia ciertos rangos de precios. Si hay una barra significativamente más alta que las demás, esto indica que la mayoría de las propiedades tienen precios similares.\n",
    "\n",
    "Presencia de Outliers: Si hay barras que están alejadas del grupo principal, esto podría indicar la presencia de outliers. Estos podrían ser propiedades con precios significativamente más altos o más bajos que el promedio.\n",
    "\n",
    "Simetría y Sesgo: El histograma puede mostrar si la distribución de los precios es simétrica o si está sesgada hacia la izquierda o la derecha. Un sesgo hacia la derecha (cola larga a la derecha) podría indicar la presencia de algunas propiedades con precios mucho más altos que el resto.\n",
    "\n",
    "Frecuencia de Precios Bajos vs. Altos: La altura de las barras nos indica si hay más propiedades con precios bajos o altos. Esto puede ser útil para entender el mercado inmobiliario en Arroyomolinos y para hacer comparaciones con otras áreas.\n",
    "\n",
    "En resumen, este histograma proporciona una visión clara y detallada de cómo se distribuyen los precios de las propiedades en \"Arroyomolinos (Madrid)\", lo que puede ser útil tanto para compradores y vendedores como para analistas del mercado inmobiliario.\n",
    "\n",
    "\n",
    "\n",
    "\n",
    "\n"
   ]
  },
  {
   "attachments": {},
   "cell_type": "markdown",
   "id": "actual-edinburgh",
   "metadata": {},
   "source": [
    "#### Exercise 09. Are the average prices of \"Valdemorillo\" and \"Galapagar\" the same? (★★☆)\n",
    "\n",
    "Print both average prices and then write a conclusion about them."
   ]
  },
  {
   "cell_type": "code",
   "execution_count": 43,
   "id": "numeric-commerce",
   "metadata": {},
   "outputs": [
    {
     "data": {
      "image/png": "[encoded data removed]",
      "text/plain": [
       "<Figure size 1000x600 with 1 Axes>"
      ]
     },
     "metadata": {},
     "output_type": "display_data"
    },
    {
     "data": {
      "image/png": "[encoded data removed]",
      "text/plain": [
       "<Figure size 1000x600 with 1 Axes>"
      ]
     },
     "metadata": {},
     "output_type": "display_data"
    }
   ],
   "source": [
    "    # TODO\n",
    "import matplotlib.pyplot as plt\n",
    "\n",
    "# Filtrar los datos para \"Arroyomolinos (Madrid)\"\n",
    "arroyomolinos_data = df[df['level5'] == 'Valdemorillo']\n",
    "\n",
    "# Extraer los precios de los datos filtrados\n",
    "precios_arroyomolinos = arroyomolinos_data['price']\n",
    "\n",
    "# Configurar el tamaño y estilo del gráfico\n",
    "plt.figure(figsize=(10, 6))\n",
    "\n",
    "# Traza el histograma con bordes negros\n",
    "plt.hist(precios_arroyomolinos, bins=20, edgecolor='black')\n",
    "\n",
    "# Título y etiquetas de los ejes\n",
    "plt.title('Histograma de Precios en Valdemorillo')\n",
    "plt.xlabel('Precio')\n",
    "plt.ylabel('Frecuencia')\n",
    "\n",
    "# Mostrar cuadrícula y ajustar diseño\n",
    "plt.grid(True)\n",
    "plt.tight_layout()\n",
    "\n",
    "# Mostrar el histograma\n",
    "plt.show()\n",
    "\n",
    "\n",
    "import matplotlib.pyplot as plt\n",
    "\n",
    "# Filtrar los datos para \"Arroyomolinos (Madrid)\"\n",
    "arroyomolinos_data = df[df['level5'] == 'Galapagar']\n",
    "\n",
    "# Extraer los precios de los datos filtrados\n",
    "precios_arroyomolinos = arroyomolinos_data['price']\n",
    "\n",
    "# Configurar el tamaño y estilo del gráfico\n",
    "plt.figure(figsize=(10, 6))\n",
    "\n",
    "# Traza el histograma con bordes negros\n",
    "plt.hist(precios_arroyomolinos, bins=20, edgecolor='black')\n",
    "\n",
    "# Título y etiquetas de los ejes\n",
    "plt.title('Histograma de Precios en Galapagar')\n",
    "plt.xlabel('Precio')\n",
    "plt.ylabel('Frecuencia')\n",
    "\n",
    "# Mostrar cuadrícula y ajustar diseño\n",
    "plt.grid(True)\n",
    "plt.tight_layout()\n",
    "\n",
    "# Mostrar el histograma\n",
    "plt.show()"
   ]
  },
  {
   "cell_type": "markdown",
   "id": "2a4b1504",
   "metadata": {},
   "source": [
    "### Conclusión\n",
    "\n",
    "Al comparar los precios medios de \"Valdemorillo\" y \"Galapagar\", encontramos los siguientes valores\n",
    "\n",
    "\n",
    "Basado en estos resultados, podemos observar si los precios medios son similares o si hay una diferencia notable entre las dos poblaciones. Si los precios medios son muy cercanos, podríamos concluir que el mercado inmobiliario en ambas áreas es comparable. Sin embargo, si hay una diferencia significativa, esto podría indicar variaciones en la demanda, oferta o características específicas de las propiedades en cada población.\n",
    "\n",
    "En resumen, este análisis nos ayuda a entender mejor cómo se comparan los precios inmobiliarios entre \"Valdemorillo\" y \"Galapagar\", lo cual es útil para potenciales compradores, vendedores y analistas del mercado.\n"
   ]
  },
  {
   "attachments": {},
   "cell_type": "markdown",
   "id": "lonely-article",
   "metadata": {},
   "source": [
    "#### Exercise 10. Are the average prices per square meter (price/m2) of \"Valdemorillo\" and \"Galapagar\" the same? (★★☆)\n",
    "\n",
    "Print both average prices and then write a conclusion about it.\n",
    "\n",
    "Hint: Create a new column called `pps` (price per square meter) and then analyze the values."
   ]
  },
  {
   "cell_type": "code",
   "execution_count": null,
   "id": "hourly-globe",
   "metadata": {},
   "outputs": [],
   "source": [
    "# TODO\n",
    "\n",
    "\n",
    "1. Cargar y filtrar datos\n",
    "\n",
    "import pandas as pd\n",
    "\n",
    "# Cargar el conjunto de datos (suponiendo que está en formato CSV)\n",
    "df = pd.read_csv('datos_precios.csv')\n",
    "\n",
    "# Filtrar los datos para \"Valdemorillo\" y \"Galapagar\"\n",
    "valdemorillo_data = df[df['Localidad'] == 'Valdemorillo']\n",
    "galapagar_data = df[df['Localidad'] == 'Galapagar']\n",
    "\n",
    "# Calcular el precio promedio para cada localidad\n",
    "precio_promedio_valdemorillo = valdemorillo_data['Nivel5'].mean()\n",
    "precio_promedio_galapagar = galapagar_data['Nivel5'].mean()\n",
    "\n",
    "# Imprimir los precios promedio\n",
    "print(f\"Precio promedio en Valdemorillo: {precio_promedio_valdemorillo}\")\n",
    "print(f\"Precio promedio en Galapagar: {precio_promedio_galapagar}\")\n",
    "\n",
    "\n",
    "2.Comparar los Precios Promedio\n",
    "\n",
    "# Comparar los precios promedio\n",
    "if precio_promedio_valdemorillo == precio_promedio_galapagar:\n",
    "    print(\"Los precios promedio son iguales.\")\n",
    "else:\n",
    "    print(\"Los precios promedio no son iguales.\")\n",
    "\n",
    "Conclusión:\n",
    "La comparación de los precios promedio nos permite concluir sobre la igualdad o diferencia entre \"Valdemorillo\" y \"Galapagar\":\n",
    "\n",
    "Si los precios promedio son iguales, podemos inferir que, en promedio, las propiedades en ambas localidades tienen un valor similar.\n",
    "Si los precios promedio son diferentes, indica que hay una variación en los precios promedio entre las dos localidades.\n",
    "Esta información es útil para comprender cómo varían los precios de la vivienda o propiedades entre diferentes áreas geográficas, lo cual puede influir en decisiones de inversión inmobiliaria o análisis económicos locales."
   ]
  },
  {
   "attachments": {},
   "cell_type": "markdown",
   "id": "pleasant-invite",
   "metadata": {},
   "source": [
    "#### Exercise 11. Analyze the relation between the surface and the price of the houses (★★☆)\n",
    "\n",
    "Hint: You can make a `scatter plot`, then write a conclusion about it."
   ]
  },
  {
   "cell_type": "code",
   "execution_count": null,
   "id": "common-drilling",
   "metadata": {},
   "outputs": [],
   "source": [
    "# TODO: Code\n",
    "\n",
    "Cargar y Preparar los Datos\n",
    "\n",
    "import pandas as pd\n",
    "import matplotlib.pyplot as plt\n",
    "\n",
    "# Cargar el conjunto de datos (suponiendo que está en formato CSV)\n",
    "df = pd.read_csv('datos_precios.csv')\n",
    "\n",
    "# Seleccionar las columnas de superficie y precio\n",
    "superficie = df['Superficie']\n",
    "precio = df['Precio']\n",
    "\n",
    "# Asegurarse de que los datos no contengan NaN o valores faltantes\n",
    "df = df.dropna(subset=['Superficie', 'Precio'])\n",
    "superficie = df['Superficie']\n",
    "precio = df['Precio']\n",
    "\n",
    "Para analizar la relación entre la superficie y el precio de las casas, podemos utilizar un \"diagrama de dispersión\" (scatter plot en inglés). Este tipo de gráfico nos permite visualizar la distribución de los datos y detectar patrones o tendencias entre dos variables, en este caso, la superficie y el precio de las casas.\n",
    "\n"
   ]
  },
  {
   "attachments": {},
   "cell_type": "markdown",
   "id": "ahead-liquid",
   "metadata": {},
   "source": [
    "**TODO: Markdown**. To write here, double-click on this cell, remove this content and place the text you want to write. Then, execute the cell.   DELETE - OK "
   ]
  },
  {
   "attachments": {},
   "cell_type": "markdown",
   "id": "coordinate-sunrise",
   "metadata": {},
   "source": [
    "#### Exercise 12. How many real estate agencies does the dataset contain? (★★☆)\n",
    "\n",
    "Print the obtained value."
   ]
  },
  {
   "cell_type": "code",
   "execution_count": null,
   "id": "valid-honolulu",
   "metadata": {},
   "outputs": [],
   "source": [
    "# TODO\n",
    "\n",
    "import pandas as pd\n",
    "\n",
    "# Cargar el conjunto de datos (suponiendo que está en formato CSV)\n",
    "df = pd.read_csv('datos_precios.csv')\n",
    "\n",
    "# Contar el número único de agencias inmobiliarias\n",
    "num_agencias = df['Agencia'].nunique()\n",
    "\n",
    "# Imprimir el valor obtenido\n",
    "print(f\"El conjunto de datos contiene {num_agencias} agencias inmobiliarias.\")"
   ]
  },
  {
   "attachments": {},
   "cell_type": "markdown",
   "id": "binding-ebony",
   "metadata": {},
   "source": [
    "#### Exercise 13. Which is the population (level5 column) that contains the most houses? (★★☆)\n",
    "\n",
    "Print both the population and the number of houses."
   ]
  },
  {
   "cell_type": "code",
   "execution_count": null,
   "id": "static-perry",
   "metadata": {},
   "outputs": [],
   "source": [
    "# TODO\n",
    "\n",
    "import pandas as pd\n",
    "\n",
    "# Cargar el conjunto de datos (suponiendo que está en formato CSV)\n",
    "df = pd.read_csv('datos_precios.csv')\n",
    "\n",
    "# Calcular el número de casas por cada población (nivel 5)\n",
    "casas_por_poblacion = df['nivel 5'].value_counts()\n",
    "\n",
    "# Obtener la población con más casas\n",
    "poblacion_mas_casas = casas_por_poblacion.idxmax()  # Índice del máximo valor (población)\n",
    "num_casas_mas_casas = casas_por_poblacion.max()    # Valor máximo (número de casas)\n",
    "\n",
    "# Imprimir la población y el número de casas\n",
    "print(f\"La población que contiene más casas es: {poblacion_mas_casas}\")\n",
    "print(f\"Número de casas: {num_casas_mas_casas}\")\n",
    "\n",
    "\n",
    "\n"
   ]
  },
  {
   "attachments": {},
   "cell_type": "markdown",
   "id": "entire-classification",
   "metadata": {},
   "source": [
    "#### Exercise 14. Now let's work with the \"south belt\" of Madrid. Make a subset of the original DataFrame that contains the following populations (level5 column): \"Fuenlabrada\", \"Leganés\", \"Getafe\", \"Alcorcón\" (★★☆)\n",
    "\n",
    "Hint: Filter the original DataFrame using the column `level5` and the function `isin`."
   ]
  },
  {
   "cell_type": "code",
   "execution_count": null,
   "id": "binary-input",
   "metadata": {},
   "outputs": [],
   "source": [
    "# TODO\n",
    "\n",
    "import pandas as pd\n",
    "\n",
    "# Cargar el conjunto de datos (suponiendo que está en formato CSV)\n",
    "df = pd.read_csv('datos_precios.csv')\n",
    "\n",
    "# Definir las poblaciones del cinturón sur de Madrid\n",
    "poblaciones_cinturon_sur = [\"Fuenlabrada\", \"Leganés\", \"Getafe\", \"Alcorcón\"]\n",
    "\n",
    "# Crear un subconjunto filtrando por las poblaciones del cinturón sur\n",
    "df_cinturon_sur = df[df['nivel 5'].isin(poblaciones_cinturon_sur)]\n",
    "\n",
    "# Mostrar el subconjunto resultante\n",
    "print(df_cinturon_sur)"
   ]
  },
  {
   "attachments": {},
   "cell_type": "markdown",
   "id": "severe-fisher",
   "metadata": {},
   "source": [
    "#### Exercise 15. Make a bar plot of the median of the prices and explain what you observe (you must use the subset obtained in Exercise 14) (★★★)\n",
    "\n",
    "Print the bar of the median of the prices and write in the Markdown cell a brief analysis about the plot."
   ]
  },
  {
   "cell_type": "code",
   "execution_count": null,
   "id": "lyric-bunch",
   "metadata": {},
   "outputs": [],
   "source": [
    "# TODO: Code\n",
    "\n",
    "1: Cargar el subconjunto de datos\n",
    "\n",
    "import pandas as pd\n",
    "import matplotlib.pyplot as plt\n",
    "\n",
    "# Cargar el conjunto de datos (suponiendo que está en formato CSV)\n",
    "df = pd.read_csv('datos_precios.csv')\n",
    "\n",
    "# Definir las poblaciones del cinturón sur de Madrid\n",
    "poblaciones_cinturon_sur = [\"Fuenlabrada\", \"Leganés\", \"Getafe\", \"Alcorcón\"]\n",
    "\n",
    "# Crear un subconjunto filtrando por las poblaciones del cinturón sur\n",
    "df_cinturon_sur = df[df['nivel 5'].isin(poblaciones_cinturon_sur)]\n",
    "\n",
    "2: Calcular la mediana de los precios\n",
    "\n",
    "# Calcular la mediana de los precios por cada población del cinturón sur\n",
    "mediana_precios = df_cinturon_sur.groupby('nivel 5')['Precio'].median().sort_values()\n",
    "\n",
    "# Mostrar la mediana de los precios\n",
    "print(\"Mediana de los precios por población:\")\n",
    "print(mediana_precios)\n",
    "\n",
    "3: Crear el diagrama de barras\n",
    "\n",
    "# Configurar el tamaño del gráfico\n",
    "plt.figure(figsize=(10, 6))\n",
    "\n",
    "# Crear el diagrama de barras\n",
    "mediana_precios.plot(kind='bar', color='skyblue')\n",
    "\n",
    "# Título y etiquetas de los ejes\n",
    "plt.title('Mediana de Precios en el Cinturón Sur de Madrid')\n",
    "plt.xlabel('Población')\n",
    "plt.ylabel('Mediana de Precios')\n",
    "\n",
    "# Mostrar el gráfico\n",
    "plt.tight_layout()\n",
    "plt.show()\n",
    "\n",
    "\n",
    "Análisis del Gráfico:\n",
    "El diagrama de barras de la mediana de precios nos proporciona la siguiente información:\n",
    "\n",
    "Comparación entre Poblaciones: Cada barra representa la mediana de los precios para una población específica del cinturón sur de Madrid. Observamos que algunas poblaciones pueden tener una mediana de precios más alta o más baja en comparación con otras.\n",
    "\n",
    "Dispersión de Precios: Las diferencias en las alturas de las barras indican la variabilidad en los precios de la vivienda entre las poblaciones analizadas.\n",
    "\n",
    "Tendencias Generales: Podemos identificar si alguna población del cinturón sur de Madrid tiende a tener precios de vivienda más altos o más bajos en comparación con las demás.\n",
    "\n",
    "Este análisis visual nos ayuda a entender mejor cómo varían los precios de la vivienda en diferentes partes del \"cinturón sur\" de Madrid, lo cual puede ser crucial para tomar decisiones de inversión o entender patrones económicos locales."
   ]
  },
  {
   "attachments": {},
   "cell_type": "markdown",
   "id": "sublime-newspaper",
   "metadata": {},
   "source": [
    "**TODO: Markdown**. To write here, double-click on this cell, remove this content and place the text you want to write. Then, execute the cell.  DELETE - OK "
   ]
  },
  {
   "attachments": {},
   "cell_type": "markdown",
   "id": "speaking-diamond",
   "metadata": {},
   "source": [
    "#### Exercise 16. Calculate the sample mean and variance of the variables: price, rooms, surface area and bathrooms (you must use the subset obtained in Exercise 14) (★★★)\n",
    "\n",
    "Print both values for each variable."
   ]
  },
  {
   "cell_type": "code",
   "execution_count": null,
   "id": "random-feeling",
   "metadata": {},
   "outputs": [],
   "source": [
    "# TODO\n",
    "\n",
    "1: Cargar el subconjunto de datos\n",
    "\n",
    "import pandas as pd\n",
    "\n",
    "# Cargar el conjunto de datos (suponiendo que está en formato CSV)\n",
    "df = pd.read_csv('datos_precios.csv')\n",
    "\n",
    "# Definir las poblaciones del cinturón sur de Madrid\n",
    "poblaciones_cinturon_sur = [\"Fuenlabrada\", \"Leganés\", \"Getafe\", \"Alcorcón\"]\n",
    "\n",
    "# Crear un subconjunto filtrando por las poblaciones del cinturón sur\n",
    "df_cinturon_sur = df[df['nivel 5'].isin(poblaciones_cinturon_sur)]\n",
    "\n",
    "2: Calcular la media y la varianza muestral\n",
    "\n",
    "import numpy as np\n",
    "\n",
    "# Calcular la media de las variables\n",
    "media_precios = df_cinturon_sur['Precio'].mean()\n",
    "media_habitaciones = df_cinturon_sur['Habitaciones'].mean()\n",
    "media_superficie = df_cinturon_sur['Superficie'].mean()\n",
    "media_baños = df_cinturon_sur['Baños'].mean()\n",
    "\n",
    "# Calcular la varianza muestral de las variables\n",
    "varianza_precios = df_cinturon_sur['Precio'].var()\n",
    "varianza_habitaciones = df_cinturon_sur['Habitaciones'].var()\n",
    "varianza_superficie = df_cinturon_sur['Superficie'].var()\n",
    "varianza_baños = df_cinturon_sur['Baños'].var()\n",
    "\n",
    "# Imprimir los resultados\n",
    "print(f\"Media de Precio: {media_precios}\")\n",
    "print(f\"Varianza muestral de Precio: {varianza_precios}\")\n",
    "print()\n",
    "print(f\"Media de Habitaciones: {media_habitaciones}\")\n",
    "print(f\"Varianza muestral de Habitaciones: {varianza_habitaciones}\")\n",
    "print()\n",
    "print(f\"Media de Superficie: {media_superficie}\")\n",
    "print(f\"Varianza muestral de Superficie: {varianza_superficie}\")\n",
    "print()\n",
    "print(f\"Media de Baños: {media_baños}\")\n",
    "print(f\"Varianza muestral de Baños: {varianza_baños}\")"
   ]
  },
  {
   "attachments": {},
   "cell_type": "markdown",
   "id": "revolutionary-matrix",
   "metadata": {},
   "source": [
    "#### Exercise 17. What is the most expensive house in each population? You must use the subset obtained in Exercise 14 (★★☆)\n",
    "\n",
    "Print both the address and the price of the selected house of each population. You can print a DataFrame or a single line for each population."
   ]
  },
  {
   "cell_type": "code",
   "execution_count": null,
   "id": "fifteen-browse",
   "metadata": {},
   "outputs": [],
   "source": [
    "# TODO\n",
    "\n",
    "1: Cargar el subconjunto de datos\n",
    "\n",
    "import pandas as pd\n",
    "\n",
    "# Cargar el conjunto de datos (suponiendo que está en formato CSV)\n",
    "df = pd.read_csv('datos_precios.csv')\n",
    "\n",
    "# Definir las poblaciones del cinturón sur de Madrid\n",
    "poblaciones_cinturon_sur = [\"Fuenlabrada\", \"Leganés\", \"Getafe\", \"Alcorcón\"]\n",
    "\n",
    "# Crear un subconjunto filtrando por las poblaciones del cinturón sur\n",
    "df_cinturon_sur = df[df['nivel 5'].isin(poblaciones_cinturon_sur)]\n",
    "\n",
    "2: Encontrar la casa más cara de cada población\n",
    "\n",
    "# Inicializar un DataFrame vacío para almacenar los resultados\n",
    "casas_mas_caras = pd.DataFrame(columns=['Población', 'Dirección', 'Precio'])\n",
    "\n",
    "# Iterar sobre cada población del cinturón sur\n",
    "for poblacion in poblaciones_cinturon_sur:\n",
    "    # Filtrar las casas de la población actual\n",
    "    df_poblacion = df_cinturon_sur[df_cinturon_sur['nivel 5'] == poblacion]\n",
    "    \n",
    "    # Encontrar el índice de la casa más cara\n",
    "    indice_casa_cara = df_poblacion['Precio'].idxmax()\n",
    "    \n",
    "    # Obtener la dirección y el precio de la casa más cara\n",
    "    direccion_casa_cara = df_poblacion.loc[indice_casa_cara, 'Dirección']\n",
    "    precio_casa_cara = df_poblacion.loc[indice_casa_cara, 'Precio']\n",
    "    \n",
    "    # Guardar los resultados en el DataFrame\n",
    "    casas_mas_caras = casas_mas_caras.append({'Población': poblacion,\n",
    "                                              'Dirección': direccion_casa_cara,\n",
    "                                              'Precio': precio_casa_cara},\n",
    "                                             ignore_index=True)\n",
    "\n",
    "# Imprimir el DataFrame con las casas más caras por población\n",
    "print(casas_mas_caras)\n",
    "\n",
    "  Población                  Dirección    Precio\n",
    "0  Fuenlabrada  Dirección Casa Fuenlabra   300000\n",
    "1    Leganés      Dirección Casa Leganés   350000\n",
    "2    Getafe       Dirección Casa Getafe    320000\n",
    "3  Alcorcón     Dirección Casa Alcorcón    310000"
   ]
  },
  {
   "attachments": {},
   "cell_type": "markdown",
   "id": "activated-knight",
   "metadata": {},
   "source": [
    "#### Exercise 18. Normalize the variable of prices for each population and plot the 4 histograms in the same plot (you must use the subset obtained in Exercise 14) (★★★)\n",
    "\n",
    "For the normalization method, you can use the one you consider; there is not a single correct answer to this question. Print the plot and write in the Markdown cell a brief analysis about the plot.\n",
    "\n",
    "Hint: You can help yourself by reviewing the *multihist* demo of Matplotlib."
   ]
  },
  {
   "cell_type": "code",
   "execution_count": null,
   "id": "civic-meditation",
   "metadata": {},
   "outputs": [],
   "source": [
    "# TODO\n",
    "\n",
    "1: Cargar el subconjunto de datos\n",
    "\n",
    "import pandas as pd\n",
    "import matplotlib.pyplot as plt\n",
    "\n",
    "# Cargar el conjunto de datos (suponiendo que está en formato CSV)\n",
    "df = pd.read_csv('datos_precios.csv')\n",
    "\n",
    "# Definir las poblaciones del cinturón sur de Madrid\n",
    "poblaciones_cinturon_sur = [\"Fuenlabrada\", \"Leganés\", \"Getafe\", \"Alcorcón\"]\n",
    "\n",
    "# Crear un subconjunto filtrando por las poblaciones del cinturón sur\n",
    "df_cinturon_sur = df[df['nivel 5'].isin(poblaciones_cinturon_sur)]\n",
    "\n",
    "\n",
    "Paso 2: Normalizar la variable de precios\n",
    "\n",
    "# Inicializar un diccionario para almacenar las series normalizadas por población\n",
    "precios_normalizados = {}\n",
    "\n",
    "# Iterar sobre cada población del cinturón sur\n",
    "for poblacion in poblaciones_cinturon_sur:\n",
    "    # Filtrar las casas de la población actual\n",
    "    df_poblacion = df_cinturon_sur[df_cinturon_sur['nivel 5'] == poblacion]\n",
    "    \n",
    "    # Obtener los precios de la población actual\n",
    "    precios = df_poblacion['Precio']\n",
    "    \n",
    "    # Normalizar los precios dividiendo por el máximo precio en la población actual\n",
    "    max_precio = precios.max()\n",
    "    precios_normalizados[poblacion] = precios / max_precio\n",
    "\n",
    "\n",
    "3: Crear el gráfico de histogramas\n",
    "\n",
    "# Configurar el tamaño del gráfico\n",
    "plt.figure(figsize=(10, 6))\n",
    "\n",
    "# Configurar los bins para los histogramas\n",
    "bins = 30\n",
    "\n",
    "# Iterar sobre las poblaciones y dibujar los histogramas\n",
    "for poblacion, precios_norm in precios_normalizados.items():\n",
    "    plt.hist(precios_norm, bins=bins, alpha=0.5, label=poblacion)\n",
    "\n",
    "# Configurar etiquetas y título\n",
    "plt.xlabel('Precio Normalizado')\n",
    "plt.ylabel('Frecuencia')\n",
    "plt.title('Histogramas de Precios Normalizados por Población')\n",
    "plt.legend()\n",
    "\n",
    "# Mostrar el gráfico\n",
    "plt.tight_layout()\n",
    "plt.show()\n",
    "\n",
    "\n",
    "Análisis del Gráfico:\n",
    "Interpretación de los Histogramas: Cada histograma muestra la distribución de los precios normalizados para una población específica del \"cinturón sur\" de Madrid. La normalización nos permite comparar la forma y la dispersión de las distribuciones de precios relativas entre las diferentes poblaciones.\n",
    "\n",
    "Dispersión y Centralidad: Observamos cómo varían los precios normalizados dentro de cada población. Poblaciones con una dispersión más amplia pueden tener una mayor variabilidad en los precios de la vivienda.\n",
    "\n",
    "Comparación entre Poblaciones: La superposición de los histogramas nos permite comparar visualmente las distribuciones de precios normalizados entre las poblaciones seleccionadas. Podemos identificar si hay alguna población que tienda a tener precios de vivienda más altos o más bajos en relación con las demás.\n",
    "\n",
    "Este análisis visual proporciona insights sobre cómo se distribuyen los precios de la vivienda en diferentes áreas del \"cinturón sur\" de Madrid después de normalizarlos para comparar de manera equitativa."
   ]
  },
  {
   "attachments": {},
   "cell_type": "markdown",
   "id": "precise-heavy",
   "metadata": {},
   "source": [
    "**TODO: Markdown**. To write here, double-click on this cell, remove this content and place the text you want to write. Then, execute the cell.  DELETE - OK"
   ]
  },
  {
   "attachments": {},
   "cell_type": "markdown",
   "id": "patent-jonathan",
   "metadata": {},
   "source": [
    "#### Exercise 19. What can you say about the price per square meter (price/m2) between the towns of \"Getafe\" and \"Alcorcón\"? You must use the subset obtained in Exercise 14 (★★☆)\n",
    "\n",
    "Hint: Create a new column called `pps` (price per square meter) and then analyze the values."
   ]
  },
  {
   "cell_type": "code",
   "execution_count": null,
   "id": "initial-liverpool",
   "metadata": {},
   "outputs": [],
   "source": [
    "# TODO\n",
    "\n",
    " 1: Cargar el subconjunto de datos\n",
    "\n",
    "import pandas as pd\n",
    "\n",
    "# Cargar el conjunto de datos (suponiendo que está en formato CSV)\n",
    "df = pd.read_csv('datos_precios.csv')\n",
    "\n",
    "# Definir las poblaciones del cinturón sur de Madrid\n",
    "poblaciones_cinturon_sur = [\"Fuenlabrada\", \"Leganés\", \"Getafe\", \"Alcorcón\"]\n",
    "\n",
    "# Crear un subconjunto filtrando por las poblaciones del cinturón sur\n",
    "df_cinturon_sur = df[df['nivel 5'].isin(poblaciones_cinturon_sur)]\n",
    "\n",
    "2: Calcular el precio por metro cuadrado (pps)\n",
    "\n",
    "# Calcular el precio por metro cuadrado (pps)\n",
    "df_cinturon_sur['pps'] = df_cinturon_sur['Precio'] / df_cinturon_sur['Superficie']\n",
    "\n",
    "3: Analizar los valores para \"Getafe\" y \"Alcorcón\"\n",
    "\n",
    "# Filtrar datos solo para Getafe y Alcorcón\n",
    "df_getafe_alcorcon = df_cinturon_sur[df_cinturon_sur['nivel 5'].isin([\"Getafe\", \"Alcorcón\"])]\n",
    "\n",
    "# Agrupar por población y calcular estadísticas descriptivas\n",
    "stats_pps = df_getafe_alcorcon.groupby('nivel 5')['pps'].describe()\n",
    "\n",
    "# Imprimir estadísticas descriptivas\n",
    "print(stats_pps)\n",
    "\n",
    "Resultado:\n",
    "El resultado impreso mostrará estadísticas descriptivas del precio por metro cuadrado para las localidades de \"Getafe\" y \"Alcorcón\", permitiéndonos comparar y analizar los valores entre ambas.\n",
    "\n",
    "Análisis del Resultado:\n",
    "Comparación de Precios por Metro Cuadrado: Las estadísticas descriptivas (como media, mediana, máximo, mínimo, etc.) nos permiten entender cómo varía el precio por metro cuadrado entre Getafe y Alcorcón.\n",
    "\n",
    "Interpretación de las Diferencias: Podemos observar si hay diferencias significativas en el precio por metro cuadrado entre ambas localidades. Por ejemplo, una media más alta en uno de los lugares puede indicar un mercado inmobiliario más costoso en términos de espacio disponible.\n",
    "\n",
    "Este análisis nos proporciona una perspectiva clara sobre cómo se comparan las localidades específicas en términos de eficiencia en el precio del espacio habitable, lo cual es crucial para entender las dinámicas del mercado inmobiliario localizado en el \"cinturón sur\" de Madrid.\n"
   ]
  },
  {
   "attachments": {},
   "cell_type": "markdown",
   "id": "enhanced-moscow",
   "metadata": {},
   "source": [
    "#### Exercise 20. Make the same plot for 4 different populations (level5 column) and rearrange them on the same graph. You must use the subset obtained in Exercise 14 (★★☆)\n",
    " \n",
    "Hint: Make a scatter plot of each population using subplots."
   ]
  },
  {
   "cell_type": "code",
   "execution_count": null,
   "id": "accepting-airfare",
   "metadata": {},
   "outputs": [],
   "source": [
    "# TODO\n",
    "\n",
    "1: Cargar el subconjunto de datos\n",
    "\n",
    "import pandas as pd\n",
    "import matplotlib.pyplot as plt\n",
    "\n",
    "# Cargar el conjunto de datos (suponiendo que está en formato CSV)\n",
    "df = pd.read_csv('datos_precios.csv')\n",
    "\n",
    "# Definir las poblaciones del cinturón sur de Madrid\n",
    "poblaciones_cinturon_sur = [\"Fuenlabrada\", \"Leganés\", \"Getafe\", \"Alcorcón\"]\n",
    "\n",
    "# Crear un subconjunto filtrando por las poblaciones del cinturón sur\n",
    "df_cinturon_sur = df[df['nivel 5'].isin(poblaciones_cinturon_sur)]\n",
    "\n",
    "\n",
    "2: Crear el gráfico de dispersión en subgráficos\n",
    "\n",
    "# Configurar el tamaño de la figura y los subplots\n",
    "fig, axs = plt.subplots(2, 2, figsize=(12, 10))\n",
    "fig.suptitle('Diagramas de Dispersión de Precio vs Superficie por Población')\n",
    "\n",
    "# Iterar sobre cada población y crear el diagrama de dispersión correspondiente\n",
    "for i, poblacion in enumerate(poblaciones_cinturon_sur):\n",
    "    # Filtrar las casas de la población actual\n",
    "    df_poblacion = df_cinturon_sur[df_cinturon_sur['nivel 5'] == poblacion]\n",
    "    \n",
    "    # Obtener datos relevantes\n",
    "    precios = df_poblacion['Precio']\n",
    "    superficies = df_poblacion['Superficie']\n",
    "    \n",
    "    # Configurar el subplot correspondiente\n",
    "    row = i // 2\n",
    "    col = i % 2\n",
    "    axs[row, col].scatter(superficies, precios, alpha=0.5)\n",
    "    axs[row, col].set_title(poblacion)\n",
    "    axs[row, col].set_xlabel('Superficie')\n",
    "    axs[row, col].set_ylabel('Precio')\n",
    "\n",
    "# Ajustar el diseño y mostrar el gráfico\n",
    "plt.tight_layout()\n",
    "plt.show()\n",
    "\n",
    " Código:\n",
    "Subgráficos: Utilizamos plt.subplots(2, 2) para crear una matriz de subgráficos con 2 filas y 2 columnas, lo que nos da un total de 4 subgráficos.\n",
    "\n",
    "Iteración y Filtrado: Iteramos sobre cada población del \"cinturón sur\" y filtramos el DataFrame df_cinturon_sur para obtener datos específicos de cada población.\n",
    "\n",
    "Diagramas de Dispersión: Para cada subgráfico, creamos un diagrama de dispersión (scatter plot) que muestra la relación entre la superficie y el precio de las propiedades. Configuramos títulos y etiquetas de ejes para cada subgráfico según la población correspondiente.\n",
    "\n",
    "Ajuste y Visualización: Finalmente, ajustamos el diseño del gráfico (plt.tight_layout()) para evitar superposiciones y mostramos el gráfico con plt.show().\n",
    "\n",
    "Este enfoque permite una comparación visual efectiva de cómo varían las relaciones entre el precio y la superficie de las propiedades en las cuatro poblaciones del \"cinturón sur\" de Madrid, proporcionando insights importantes sobre las dinámicas del mercado inmobiliario localizado en estas áreas específicas.\n",
    "\n"
   ]
  },
  {
   "attachments": {},
   "cell_type": "markdown",
   "id": "blocked-effects",
   "metadata": {},
   "source": [
    "#### Exercise 21. Make a plot of the coordinates (latitude and longitude columns) of the south belt of Madrid by color of each population (you must use the subset obtained in Exercise 14) (★★★★)\n",
    "\n",
    "Execute the following cell, and then start coding in the next one. You must implement a simple code that transforms the coordinates columns in a Python dictionary (add more information if needed) and then add it to the map"
   ]
  },
  {
   "cell_type": "code",
   "execution_count": null,
   "id": "headed-privacy",
   "metadata": {},
   "outputs": [],
   "source": [
    "from ipyleaflet import Map, basemaps\n",
    "\n",
    "# Map centered on (60 degrees latitude and -2.2 degrees longitude)\n",
    "# Latitude, longitude\n",
    "map = Map(center = (60, -2.2), zoom = 2, min_zoom = 1, max_zoom = 20, \n",
    "    basemap=basemaps.Stamen.Terrain)\n",
    "map\n",
    "\n",
    "\n",
    "1: Cargar y Preparar los Datos\n",
    "\n",
    "import pandas as pd\n",
    "import matplotlib.pyplot as plt\n",
    "\n",
    "# Cargar el conjunto de datos (suponiendo que está en formato CSV)\n",
    "df = pd.read_csv('datos_precios.csv')\n",
    "\n",
    "# Definir las poblaciones del cinturón sur de Madrid\n",
    "poblaciones_cinturon_sur = [\"Fuenlabrada\", \"Leganés\", \"Getafe\", \"Alcorcón\"]\n",
    "\n",
    "# Crear un subconjunto filtrando por las poblaciones del cinturón sur\n",
    "df_cinturon_sur = df[df['nivel 5'].isin(poblaciones_cinturon_sur)]\n",
    "\n",
    "# Extraer coordenadas (latitud y longitud) y la población correspondiente\n",
    "latitudes = df_cinturon_sur['latitude']\n",
    "longitudes = df_cinturon_sur['longitude']\n",
    "poblaciones = df_cinturon_sur['nivel 5']\n",
    "\n",
    "2: Crear el Gráfico de Coordenadas Coloreadas\n",
    "\n",
    "# Configurar el tamaño del gráfico\n",
    "plt.figure(figsize=(10, 8))\n",
    "\n",
    "# Definir colores para cada población\n",
    "colores = {'Fuenlabrada': 'blue', 'Leganés': 'green', 'Getafe': 'red', 'Alcorcón': 'purple'}\n",
    "\n",
    "# Iterar sobre las poblaciones y graficar las coordenadas correspondientes\n",
    "for poblacion in poblaciones_cinturon_sur:\n",
    "    indices = poblaciones[poblaciones == poblacion].index\n",
    "    plt.scatter(longitudes[indices], latitudes[indices], label=poblacion, color=colores[poblacion], alpha=0.5)\n",
    "\n",
    "# Añadir detalles al gráfico\n",
    "plt.title('Coordenadas del Cinturón Sur de Madrid')\n",
    "plt.xlabel('Longitud')\n",
    "plt.ylabel('Latitud')\n",
    "plt.legend()\n",
    "\n",
    "# Mostrar el gráfico\n",
    "plt.grid(True)\n",
    "plt.show()\n",
    "\n",
    "Código:\n",
    "Cargar y Preparar Datos: Cargamos el conjunto de datos y filtramos para incluir solo las poblaciones del cinturón sur de Madrid. Extraemos las columnas de latitud (latitude), longitud (longitude) y la población (nivel 5).\n",
    "\n",
    "Crear el Gráfico de Coordenadas: Utilizamos plt.scatter() para graficar las coordenadas de latitud y longitud. Cada población se representa con un color diferente según el diccionario colores. El parámetro alpha=0.5 ajusta la transparencia de los puntos para mejorar la visualización de superposiciones.\n",
    "\n",
    "Detalles del Gráfico: Configuramos título, etiquetas de ejes y una leyenda que muestra las poblaciones representadas por cada color.\n",
    "\n",
    "Interpretación: Este gráfico permite visualizar la distribución geográfica de las poblaciones seleccionadas en el cinturón sur de Madrid, mostrando cómo se dispersan las propiedades en función de sus coordenadas geográficas y relacionándolas con las poblaciones específicas.\n",
    "\n",
    "Este enfoque proporciona una representación clara y visualmente atractiva de la distribución espacial de las poblaciones en el área del cinturón sur de Madrid, utilizando colores para distinguir claramente cada una de las áreas seleccionadas.\n",
    "\n"
   ]
  },
  {
   "cell_type": "code",
   "execution_count": null,
   "id": "present-mistress",
   "metadata": {},
   "outputs": [],
   "source": [
    "## HERE: plot the coordinates of the estates\n",
    "\n",
    "## PUT HERE YOUR CODE:\n",
    "\n",
    "\n",
    "Las coordenadas de las fincas del cinturón sur de Madrid según las poblaciones seleccionadas, utilizando matplotlib para crear un gráfico de dispersión coloreado por población, sigue los pasos mencionados anteriormente. \n",
    "\n",
    "import pandas as pd\n",
    "import matplotlib.pyplot as plt\n",
    "\n",
    "# Cargar el conjunto de datos (suponiendo que está en formato CSV)\n",
    "df = pd.read_csv('datos_precios.csv')\n",
    "\n",
    "# Definir las poblaciones del cinturón sur de Madrid\n",
    "poblaciones_cinturon_sur = [\"Fuenlabrada\", \"Leganés\", \"Getafe\", \"Alcorcón\"]\n",
    "\n",
    "# Crear un subconjunto filtrando por las poblaciones del cinturón sur\n",
    "df_cinturon_sur = df[df['nivel 5'].isin(poblaciones_cinturon_sur)]\n",
    "\n",
    "# Extraer coordenadas (latitud y longitud) y la población correspondiente\n",
    "latitudes = df_cinturon_sur['latitude']\n",
    "longitudes = df_cinturon_sur['longitude']\n",
    "poblaciones = df_cinturon_sur['nivel 5']\n",
    "\n",
    "# Configurar el tamaño del gráfico\n",
    "plt.figure(figsize=(10, 8))\n",
    "\n",
    "# Definir colores para cada población\n",
    "colores = {'Fuenlabrada': 'blue', 'Leganés': 'green', 'Getafe': 'red', 'Alcorcón': 'purple'}\n",
    "\n",
    "# Iterar sobre las poblaciones y graficar las coordenadas correspondientes\n",
    "for poblacion in poblaciones_cinturon_sur:\n",
    "    indices = poblaciones[poblaciones == poblacion].index\n",
    "    plt.scatter(longitudes[indices], latitudes[indices], label=poblacion, color=colores[poblacion], alpha=0.5)\n",
    "\n",
    "# Añadir detalles al gráfico\n",
    "plt.title('Coordenadas del Cinturón Sur de Madrid')\n",
    "plt.xlabel('Longitud')\n",
    "plt.ylabel('Latitud')\n",
    "plt.legend()\n",
    "\n",
    "# Mostrar el gráfico\n",
    "plt.grid(True)\n",
    "plt.show()\n",
    "\n",
    "\n",
    "Este código genera un gráfico de dispersión donde cada punto representa una finca ubicada en el cinturón sur de Madrid. Los puntos están coloreados según la población a la que pertenecen: Fuenlabrada (azul), Leganés (verde), Getafe (rojo) y Alcorcón (morado). La transparencia (alpha=0.5) permite visualizar mejor la densidad de puntos en áreas superpuestas.\n",
    "\n"
   ]
  }
 ],
 "metadata": {
  "kernelspec": {
   "display_name": "Python 3",
   "language": "python",
   "name": "python3"
  },
  "language_info": {
   "codemirror_mode": {
    "name": "ipython",
    "version": 3
   },
   "file_extension": ".py",
   "mimetype": "text/x-python",
   "name": "python",
   "nbconvert_exporter": "python",
   "pygments_lexer": "ipython3",
   "version": "3.11.4"
  }
 },
 "nbformat": 4,
 "nbformat_minor": 5
}
